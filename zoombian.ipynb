{
 "cells": [
  {
   "cell_type": "code",
   "execution_count": 1,
   "metadata": {},
   "outputs": [],
   "source": [
    "import random\n",
    "\n",
    "# Constants\n",
    "ZOOMBINIS_COUNT = 16\n",
    "ZOOMBINIS_PER_TEAM = 8\n",
    "\n",
    "# Functions\n",
    "\n",
    "\n",
    "def setup_teams():\n",
    "    teams = []\n",
    "    for i in range(2):\n",
    "        team = []\n",
    "        for _ in range(ZOOMBINIS_PER_TEAM):\n",
    "            team.append(random.randint(1, 4))\n",
    "        teams.append(team)\n",
    "    return teams\n",
    "\n",
    "\n",
    "def display_teams(teams):\n",
    "    for i, team in enumerate(teams, start=1):\n",
    "        print(f\"Team {i}: {team}\")\n",
    "\n",
    "\n",
    "def main():\n",
    "    print(\"Welcome to Zoombinis!\")\n",
    "    teams = setup_teams()\n",
    "\n",
    "    while True:\n",
    "        display_teams(teams)\n",
    "        team_choice = int(input(\"Select a team (1 or 2): \"))\n",
    "\n",
    "        if team_choice < 1 or team_choice > 2:\n",
    "            print(\"Invalid team choice. Please select 1 or 2.\")\n",
    "            continue\n",
    "\n",
    "        selected_team = teams[team_choice - 1]\n",
    "        zoombini_choice = int(input(\"Select a Zoombini (1-8): \"))\n",
    "\n",
    "        if zoombini_choice < 1 or zoombini_choice > 8:\n",
    "            print(\"Invalid Zoombini choice. Please select a number between 1 and 8.\")\n",
    "            continue\n",
    "\n",
    "        zoombini = selected_team[zoombini_choice - 1]\n",
    "        print(f\"Selected Zoombini: {zoombini}\")\n",
    "\n",
    "        play_again = input(\"Do you want to play again? (y/n): \")\n",
    "        if play_again.lower() != \"y\":\n",
    "            print(\"Thanks for playing Zoombinis!\")\n",
    "            break\n",
    "\n",
    "\n",
    "if __name__ == \"__main__\":\n",
    "    main()\n"
   ]
  },
  {
   "cell_type": "code",
   "execution_count": null,
   "metadata": {},
   "outputs": [],
   "source": []
  }
 ],
 "metadata": {
  "kernelspec": {
   "display_name": "base",
   "language": "python",
   "name": "python3"
  },
  "language_info": {
   "codemirror_mode": {
    "name": "ipython",
    "version": 3
   },
   "file_extension": ".py",
   "mimetype": "text/x-python",
   "name": "python",
   "nbconvert_exporter": "python",
   "pygments_lexer": "ipython3",
   "version": "3.8.8"
  }
 },
 "nbformat": 4,
 "nbformat_minor": 2
}
