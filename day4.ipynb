{
 "cells": [
  {
   "cell_type": "code",
   "execution_count": 1,
   "metadata": {},
   "outputs": [
    {
     "name": "stdout",
     "output_type": "stream",
     "text": [
      "welcome  to file read operation \n"
     ]
    }
   ],
   "source": [
    "file = open(\"test.txt\",\"r\")\n",
    "print(file.read())"
   ]
  },
  {
   "cell_type": "code",
   "execution_count": null,
   "metadata": {},
   "outputs": [],
   "source": []
  },
  {
   "cell_type": "code",
   "execution_count": null,
   "metadata": {},
   "outputs": [],
   "source": []
  },
  {
   "cell_type": "code",
   "execution_count": null,
   "metadata": {},
   "outputs": [],
   "source": []
  },
  {
   "cell_type": "code",
   "execution_count": null,
   "metadata": {},
   "outputs": [],
   "source": []
  },
  {
   "cell_type": "code",
   "execution_count": 2,
   "metadata": {},
   "outputs": [
    {
     "name": "stdout",
     "output_type": "stream",
     "text": [
      "welcome  to file read operation \n"
     ]
    }
   ],
   "source": [
    "#using with staement reading file \n",
    "with open(\"test.txt\",\"r\") as file:\n",
    "    data = file.read()\n",
    "    print(data)\n",
    "file.close()\n",
    "S"
   ]
  },
  {
   "cell_type": "code",
   "execution_count": 3,
   "metadata": {},
   "outputs": [
    {
     "name": "stdout",
     "output_type": "stream",
     "text": [
      "age,s\n"
     ]
    }
   ],
   "source": [
    "# Example 4: Another way to read file is to call a certain number of \n",
    "# charecter like  in the following code the interpreter will read the first five \n",
    "# charecter of stored data and return it as string \n",
    "with  open(\"insurance.csv\",\"r\") as file:\n",
    "    data  = file.read(5)\n",
    "    print(data)\n",
    "    file.close()\n",
    "  \n"
   ]
  },
  {
   "cell_type": "code",
   "execution_count": 4,
   "metadata": {},
   "outputs": [
    {
     "name": "stdout",
     "output_type": "stream",
     "text": [
      "welco\n"
     ]
    }
   ],
   "source": [
    "with open(\"test.txt\",\"r\") as file:\n",
    "    data = file.read(5)\n",
    "    print(data)\n",
    "file.close()    "
   ]
  },
  {
   "cell_type": "code",
   "execution_count": 21,
   "metadata": {},
   "outputs": [],
   "source": [
    "# #we can also split the lines while reading the file in python  readlines\n",
    "# with open(\"insurance.csv\",\"r\") as file:\n",
    "#     data = file.readlines()\n",
    "#     for line in data:\n",
    "#         word = line.split()\n",
    "#         print(word)\n",
    "# file.close()        \n",
    "    "
   ]
  },
  {
   "cell_type": "code",
   "execution_count": 11,
   "metadata": {},
   "outputs": [],
   "source": [
    "#Creating a File using the write() operation "
   ]
  },
  {
   "cell_type": "markdown",
   "metadata": {},
   "source": []
  },
  {
   "cell_type": "code",
   "execution_count": 12,
   "metadata": {},
   "outputs": [],
   "source": [
    "file = open(\"testw.txt\",\"w\")\n",
    "file.write(\"welcome to the file write operation \")\n",
    "file.write(\"this allows us to  write in perticuler file \")\n",
    "file.close()"
   ]
  },
  {
   "cell_type": "code",
   "execution_count": 13,
   "metadata": {},
   "outputs": [],
   "source": [
    "# we can also use the written ataemt long with()\n",
    "with open(\"testopen.txt\",\"w\") as file:\n",
    "    file.write(\"wello file operation Done sucessfully\")"
   ]
  },
  {
   "cell_type": "code",
   "execution_count": 15,
   "metadata": {},
   "outputs": [],
   "source": [
    "#write append operstion \n",
    "file = open(\"test.txt\",\"a\")\n",
    "file.write(\"this is file append operation done sucessfully\")\n",
    "file.close()"
   ]
  },
  {
   "cell_type": "code",
   "execution_count": 16,
   "metadata": {},
   "outputs": [],
   "source": [
    "f = open(\"testopen.txt\",\"a\")\n",
    "f.write(\"welcomr dddddadaaa\")\n",
    "f.close()"
   ]
  },
  {
   "cell_type": "code",
   "execution_count": 19,
   "metadata": {},
   "outputs": [],
   "source": [
    "# implimententi all the fi=unctons file funtion in python \n",
    "# \n",
    "\n",
    "import os\n",
    "def create_file(file_name):\n",
    "    try:\n",
    "        with open(file_name,\"w\") as f:\n",
    "            f.write(\"welcome to file creatiom !\\n\")\n",
    "\n",
    "        print(\"file\" +file_name+\"created successfully\")\n",
    "    except IOError:\n",
    "        print(\"Error:could not create file\",+file_name)\n",
    "\n",
    "if __name__ =='__main__':\n",
    "    file_name = \"example.text\"\n",
    "    new_filename = \"new_example.txt\""
   ]
  },
  {
   "cell_type": "code",
   "execution_count": 20,
   "metadata": {},
   "outputs": [
    {
     "name": "stdout",
     "output_type": "stream",
     "text": [
      "File example.txt created successfully.\n",
      "Hello, world!\n",
      "\n",
      "Text appended to file example.txt successfully.\n",
      "Hello, world!\n",
      "This is some additional text.\n",
      "\n",
      "File example.txt renamed to new_example.txt successfully.\n",
      "Hello, world!\n",
      "This is some additional text.\n",
      "\n",
      "File new_example.txt deleted successfully.\n"
     ]
    }
   ],
   "source": [
    "\n",
    "import os\n",
    " \n",
    "def create_file(filename):\n",
    "    try:\n",
    "        with open(filename, 'w') as f:\n",
    "            f.write('Hello, world!\\n')\n",
    "        print(\"File \" + filename + \" created successfully.\")\n",
    "    except IOError:\n",
    "        print(\"Error: could not create file \" + filename)\n",
    " \n",
    "def read_file(filename):\n",
    "    try:\n",
    "        with open(filename, 'r') as f:\n",
    "            contents = f.read()\n",
    "            print(contents)\n",
    "    except IOError:\n",
    "        print(\"Error: could not read file \" + filename)\n",
    " \n",
    "def append_file(filename, text):\n",
    "    try:\n",
    "        with open(filename, 'a') as f:\n",
    "            f.write(text)\n",
    "        print(\"Text appended to file \" + filename + \" successfully.\")\n",
    "    except IOError:\n",
    "        print(\"Error: could not append to file \" + filename)\n",
    " \n",
    "def rename_file(filename, new_filename):\n",
    "    try:\n",
    "        os.rename(filename, new_filename)\n",
    "        print(\"File \" + filename + \" renamed to \" + new_filename + \" successfully.\")\n",
    "    except IOError:\n",
    "        print(\"Error: could not rename file \" + filename)\n",
    " \n",
    "def delete_file(filename):\n",
    "    try:\n",
    "        os.remove(filename)\n",
    "        print(\"File \" + filename + \" deleted successfully.\")\n",
    "    except IOError:\n",
    "        print(\"Error: could not delete file \" + filename)\n",
    " \n",
    " \n",
    "if __name__ == '__main__':\n",
    "    filename = \"example.txt\"\n",
    "    new_filename = \"new_example.txt\"\n",
    " \n",
    "    create_file(filename)\n",
    "    read_file(filename)\n",
    "    append_file(filename, \"This is some additional text.\\n\")\n",
    "    read_file(filename)\n",
    "    rename_file(filename, new_filename)\n",
    "    read_file(new_filename)\n",
    "    delete_file(new_filename)"
   ]
  },
  {
   "cell_type": "code",
   "execution_count": 2,
   "metadata": {},
   "outputs": [
    {
     "ename": "TypeError",
     "evalue": "argument of type 'int' is not iterable",
     "output_type": "error",
     "traceback": [
      "\u001b[1;31m---------------------------------------------------------------------------\u001b[0m",
      "\u001b[1;31mTypeError\u001b[0m                                 Traceback (most recent call last)",
      "\u001b[1;32m<ipython-input-2-1e00b89ba5c5>\u001b[0m in \u001b[0;36m<module>\u001b[1;34m\u001b[0m\n\u001b[0;32m      1\u001b[0m \u001b[0mn\u001b[0m \u001b[1;33m=\u001b[0m \u001b[0mint\u001b[0m\u001b[1;33m(\u001b[0m\u001b[0minput\u001b[0m\u001b[1;33m(\u001b[0m\u001b[1;34m'enter the number '\u001b[0m\u001b[1;33m)\u001b[0m\u001b[1;33m)\u001b[0m\u001b[1;33m\u001b[0m\u001b[1;33m\u001b[0m\u001b[0m\n\u001b[1;32m----> 2\u001b[1;33m \u001b[1;32mfor\u001b[0m  \u001b[0mi\u001b[0m \u001b[1;32min\u001b[0m \u001b[0mrange\u001b[0m \u001b[1;32min\u001b[0m \u001b[1;33m(\u001b[0m\u001b[0mn\u001b[0m\u001b[1;33m)\u001b[0m\u001b[1;33m:\u001b[0m\u001b[1;33m\u001b[0m\u001b[1;33m\u001b[0m\u001b[0m\n\u001b[0m\u001b[0;32m      3\u001b[0m     \u001b[1;32mfor\u001b[0m  \u001b[0mj\u001b[0m \u001b[1;32min\u001b[0m \u001b[0mrange\u001b[0m\u001b[1;33m(\u001b[0m\u001b[0mi\u001b[0m\u001b[1;33m+\u001b[0m\u001b[1;36m1\u001b[0m\u001b[1;33m)\u001b[0m\u001b[1;33m:\u001b[0m\u001b[1;33m\u001b[0m\u001b[1;33m\u001b[0m\u001b[0m\n\u001b[0;32m      4\u001b[0m         \u001b[0mprint\u001b[0m\u001b[1;33m(\u001b[0m\u001b[1;34m' *'\u001b[0m\u001b[1;33m,\u001b[0m\u001b[0mend\u001b[0m \u001b[1;33m=\u001b[0m \u001b[1;34m' '\u001b[0m\u001b[1;33m)\u001b[0m\u001b[1;33m\u001b[0m\u001b[1;33m\u001b[0m\u001b[0m\n\u001b[0;32m      5\u001b[0m     \u001b[0mprint\u001b[0m\u001b[1;33m(\u001b[0m\u001b[1;33m)\u001b[0m\u001b[1;33m\u001b[0m\u001b[1;33m\u001b[0m\u001b[0m\n",
      "\u001b[1;31mTypeError\u001b[0m: argument of type 'int' is not iterable"
     ]
    }
   ],
   "source": [
    "n = int(input('enter the number '))\n",
    "for  i in range in (n):\n",
    "    for  j in range(i+1):\n",
    "        print(' *',end = ' ')\n",
    "    print()    "
   ]
  },
  {
   "cell_type": "code",
   "execution_count": 4,
   "metadata": {},
   "outputs": [
    {
     "name": "stdout",
     "output_type": "stream",
     "text": [
      "* \n",
      "* * \n",
      "* * * \n",
      "* * * * \n",
      "* * * * * \n",
      "* * * * * * \n",
      "* * * * * * * \n",
      "* * * * * * * * \n",
      "* * * * * * * * * \n",
      "* * * * * * * * * * \n"
     ]
    }
   ],
   "source": [
    "n  = int(input('pleae enter the number of rows you want:\\n'))\n",
    "for i in range(n):\n",
    "    for j in range(i+1):\n",
    "        print('*',end = ' ')\n",
    "    print()    "
   ]
  },
  {
   "cell_type": "code",
   "execution_count": 15,
   "metadata": {},
   "outputs": [
    {
     "name": "stdout",
     "output_type": "stream",
     "text": [
      "55  \n",
      "54  53  \n",
      "52  51  50  \n",
      "49  48  47  46  \n",
      "45  44  43  42  41  \n",
      "40  39  38  37  36  35  \n",
      "34  33  32  31  30  29  28  \n",
      "27  26  25  24  23  22  21  20  \n",
      "19  18  17  16  15  14  13  12  11  \n",
      "10  9   8   7   6   5   4   3   2   1   \n"
     ]
    }
   ],
   "source": [
    "n = int(input('please enterthe value '))\n",
    "k = 0\n",
    "for i in range(n):\n",
    "    k = k+i\n",
    "    \n",
    "m = n+k   \n",
    "for i  in range (n):\n",
    "    for j in range(i+1):\n",
    "        print(format(m,\"<3\"),end= ' ')\n",
    "        m =m-1\n",
    "    print()    \n"
   ]
  },
  {
   "cell_type": "code",
   "execution_count": 11,
   "metadata": {},
   "outputs": [
    {
     "data": {
      "text/plain": [
       "10"
      ]
     },
     "execution_count": 11,
     "metadata": {},
     "output_type": "execute_result"
    }
   ],
   "source": [
    "m"
   ]
  },
  {
   "cell_type": "code",
   "execution_count": 16,
   "metadata": {},
   "outputs": [
    {
     "name": "stdout",
     "output_type": "stream",
     "text": [
      "55  \n",
      "56  57  \n",
      "58  59  60  \n",
      "61  62  63  64  \n",
      "65  66  67  68  69  \n",
      "70  71  72  73  74  75  \n",
      "76  77  78  79  80  81  82  \n",
      "83  84  85  86  87  88  89  90  \n",
      "91  92  93  94  95  96  97  98  99  \n",
      "100 101 102 103 104 105 106 107 108 109 \n"
     ]
    }
   ],
   "source": [
    "n = int(input('please enterthe value '))\n",
    "k = 0\n",
    "for i in range(n):\n",
    "    k = k+i\n",
    "    \n",
    "m = n+k   \n",
    "for i  in range (n):\n",
    "    for j in range(i+1):\n",
    "        print(format(m,\"<3\"),end= ' ')\n",
    "        m =m+1\n",
    "    print()   "
   ]
  },
  {
   "cell_type": "code",
   "execution_count": null,
   "metadata": {},
   "outputs": [],
   "source": []
  }
 ],
 "metadata": {
  "kernelspec": {
   "display_name": "base",
   "language": "python",
   "name": "python3"
  },
  "language_info": {
   "codemirror_mode": {
    "name": "ipython",
    "version": 3
   },
   "file_extension": ".py",
   "mimetype": "text/x-python",
   "name": "python",
   "nbconvert_exporter": "python",
   "pygments_lexer": "ipython3",
   "version": "3.8.8"
  }
 },
 "nbformat": 4,
 "nbformat_minor": 2
}
